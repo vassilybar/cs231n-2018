{
  "nbformat": 4,
  "nbformat_minor": 0,
  "metadata": {
    "colab": {
      "name": "FullyConnectedNets.ipynb",
      "version": "0.3.2",
      "provenance": [],
      "include_colab_link": true
    },
    "kernelspec": {
      "name": "python3",
      "display_name": "Python 3"
    }
  },
  "cells": [
    {
      "cell_type": "markdown",
      "metadata": {
        "id": "view-in-github",
        "colab_type": "text"
      },
      "source": [
        "<a href=\"https://colab.research.google.com/github/vassilybar/cs231n_solutions_colab/blob/master/assignment_2/FullyConnectedNets.ipynb\" target=\"_parent\"><img src=\"https://colab.research.google.com/assets/colab-badge.svg\" alt=\"Open In Colab\"/></a>"
      ]
    },
    {
      "metadata": {
        "id": "dXNx8l75h2n8",
        "colab_type": "text"
      },
      "cell_type": "markdown",
      "source": [
        "# Fully-Connected Neural Nets\n",
        "In the previous homework you implemented a fully-connected two-layer neural network on CIFAR-10. The implementation was simple but not very modular since the loss and gradient were computed in a single monolithic function. This is manageable for a simple two-layer network, but would become impractical as we move to bigger models. Ideally we want to build networks using a more modular design so that we can implement different layer types in isolation and then snap them together into models with different architectures.\n",
        "\n",
        "In this exercise we will implement fully-connected networks using a more modular approach. For each layer we will implement a `forward` and a `backward` function. The `forward` function will receive inputs, weights, and other parameters and will return both an output and a `cache` object storing data needed for the backward pass, like this:\n",
        "\n",
        "```python\n",
        "def layer_forward(x, w):\n",
        "  \"\"\" Receive inputs x and weights w \"\"\"\n",
        "  # Do some computations ...\n",
        "  z = # ... some intermediate value\n",
        "  # Do some more computations ...\n",
        "  out = # the output\n",
        "   \n",
        "  cache = (x, w, z, out) # Values we need to compute gradients\n",
        "   \n",
        "  return out, cache\n",
        "```\n",
        "\n",
        "The backward pass will receive upstream derivatives and the `cache` object, and will return gradients with respect to the inputs and weights, like this:\n",
        "\n",
        "```python\n",
        "def layer_backward(dout, cache):\n",
        "  \"\"\"\n",
        "  Receive dout (derivative of loss with respect to outputs) and cache,\n",
        "  and compute derivative with respect to inputs.\n",
        "  \"\"\"\n",
        "  # Unpack cache values\n",
        "  x, w, z, out = cache\n",
        "  \n",
        "  # Use values in cache to compute derivatives\n",
        "  dx = # Derivative of loss with respect to x\n",
        "  dw = # Derivative of loss with respect to w\n",
        "  \n",
        "  return dx, dw\n",
        "```\n",
        "\n",
        "After implementing a bunch of layers this way, we will be able to easily combine them to build classifiers with different architectures.\n",
        "\n",
        "In addition to implementing fully-connected networks of arbitrary depth, we will also explore different update rules for optimization, and introduce Dropout as a regularizer and Batch/Layer Normalization as a tool to more efficiently optimize deep networks.\n",
        "  "
      ]
    },
    {
      "metadata": {
        "id": "ViKR-5mAgGtT",
        "colab_type": "code",
        "outputId": "9a25f7b8-fe06-4a46-f336-5113ea6195b1",
        "colab": {
          "base_uri": "https://localhost:8080/",
          "height": 1173
        }
      },
      "cell_type": "code",
      "source": [
        "!rm -rf * && \\\n",
        " wget 'http://cs231n.github.io/assignments/2018/spring1718_assignment2.zip' && \\\n",
        " unzip 'spring1718_assignment2.zip' && \\\n",
        " mv assignment2/cs231n . && \\\n",
        " pushd cs231n/datasets && \\\n",
        " chmod +x ./get_datasets.sh && \\\n",
        " ./get_datasets.sh && \\\n",
        " popd && \\\n",
        " rm -rf assignment2"
      ],
      "execution_count": 2,
      "outputs": [
        {
          "output_type": "stream",
          "text": [
            "--2019-01-20 10:24:45--  http://cs231n.github.io/assignments/2018/spring1718_assignment2.zip\n",
            "Resolving cs231n.github.io (cs231n.github.io)... 185.199.108.153, 185.199.111.153, 185.199.110.153, ...\n",
            "Connecting to cs231n.github.io (cs231n.github.io)|185.199.108.153|:80... connected.\n",
            "HTTP request sent, awaiting response... 200 OK\n",
            "Length: 116579 (114K) [application/zip]\n",
            "Saving to: ‘spring1718_assignment2.zip’\n",
            "\n",
            "\r          spring171   0%[                    ]       0  --.-KB/s               \rspring1718_assignme 100%[===================>] 113.85K  --.-KB/s    in 0.02s   \n",
            "\n",
            "2019-01-20 10:24:45 (5.03 MB/s) - ‘spring1718_assignment2.zip’ saved [116579/116579]\n",
            "\n",
            "Archive:  spring1718_assignment2.zip\n",
            "   creating: assignment2/\n",
            " extracting: assignment2/.gitignore  \n",
            "  inflating: assignment2/BatchNormalization.ipynb  \n",
            "  inflating: assignment2/collectSubmission.sh  \n",
            "  inflating: assignment2/ConvolutionalNetworks.ipynb  \n",
            "   creating: assignment2/cs231n/\n",
            "  inflating: assignment2/cs231n/.gitignore  \n",
            " extracting: assignment2/cs231n/__init__.py  \n",
            "   creating: assignment2/cs231n/classifiers/\n",
            " extracting: assignment2/cs231n/classifiers/__init__.py  \n",
            "  inflating: assignment2/cs231n/classifiers/cnn.py  \n",
            "  inflating: assignment2/cs231n/classifiers/fc_net.py  \n",
            "  inflating: assignment2/cs231n/data_utils.py  \n",
            "   creating: assignment2/cs231n/datasets/\n",
            "  inflating: assignment2/cs231n/datasets/.gitignore  \n",
            "  inflating: assignment2/cs231n/datasets/get_datasets.sh  \n",
            "  inflating: assignment2/cs231n/fast_layers.py  \n",
            "  inflating: assignment2/cs231n/gradient_check.py  \n",
            "  inflating: assignment2/cs231n/im2col.py  \n",
            "  inflating: assignment2/cs231n/im2col_cython.pyx  \n",
            "  inflating: assignment2/cs231n/layer_utils.py  \n",
            "  inflating: assignment2/cs231n/layers.py  \n",
            "  inflating: assignment2/cs231n/optim.py  \n",
            "  inflating: assignment2/cs231n/setup.py  \n",
            "  inflating: assignment2/cs231n/solver.py  \n",
            "  inflating: assignment2/cs231n/vis_utils.py  \n",
            "  inflating: assignment2/Dropout.ipynb  \n",
            "  inflating: assignment2/frameworkpython  \n",
            "  inflating: assignment2/FullyConnectedNets.ipynb  \n",
            "  inflating: assignment2/kitten.jpg  \n",
            "  inflating: assignment2/puppy.jpg   \n",
            "  inflating: assignment2/README.md   \n",
            "  inflating: assignment2/requirements.txt  \n",
            "  inflating: assignment2/start_ipython_osx.sh  \n",
            "/content/cs231n/datasets /content\n",
            "--2019-01-20 10:24:45--  http://www.cs.toronto.edu/~kriz/cifar-10-python.tar.gz\n",
            "Resolving www.cs.toronto.edu (www.cs.toronto.edu)... 128.100.3.30\n",
            "Connecting to www.cs.toronto.edu (www.cs.toronto.edu)|128.100.3.30|:80... connected.\n",
            "HTTP request sent, awaiting response... 200 OK\n",
            "Length: 170498071 (163M) [application/x-gzip]\n",
            "Saving to: ‘cifar-10-python.tar.gz’\n",
            "\n",
            "cifar-10-python.tar 100%[===================>] 162.60M  8.64MB/s    in 20s     \n",
            "\n",
            "2019-01-20 10:25:06 (8.18 MB/s) - ‘cifar-10-python.tar.gz’ saved [170498071/170498071]\n",
            "\n",
            "cifar-10-batches-py/\n",
            "cifar-10-batches-py/data_batch_4\n",
            "cifar-10-batches-py/readme.html\n",
            "cifar-10-batches-py/test_batch\n",
            "cifar-10-batches-py/data_batch_3\n",
            "cifar-10-batches-py/batches.meta\n",
            "cifar-10-batches-py/data_batch_2\n",
            "cifar-10-batches-py/data_batch_5\n",
            "cifar-10-batches-py/data_batch_1\n",
            "/content\n"
          ],
          "name": "stdout"
        }
      ]
    },
    {
      "metadata": {
        "id": "0Aje8Znih2oL",
        "colab_type": "code",
        "colab": {}
      },
      "cell_type": "code",
      "source": [
        "# As usual, a bit of setup\n",
        "from __future__ import print_function\n",
        "import time\n",
        "import numpy as np\n",
        "import matplotlib.pyplot as plt\n",
        "# from cs231n.classifiers.fc_net import *\n",
        "from cs231n.data_utils import get_CIFAR10_data\n",
        "from cs231n.gradient_check import eval_numerical_gradient, eval_numerical_gradient_array\n",
        "# from cs231n.solver import Solver\n",
        "\n",
        "%matplotlib inline\n",
        "plt.rcParams['figure.figsize'] = (10.0, 8.0) # set default size of plots\n",
        "plt.rcParams['image.interpolation'] = 'nearest'\n",
        "plt.rcParams['image.cmap'] = 'gray'\n",
        "\n",
        "# for auto-reloading external modules\n",
        "# see http://stackoverflow.com/questions/1907993/autoreload-of-modules-in-ipython\n",
        "%load_ext autoreload\n",
        "%autoreload 2\n",
        "\n",
        "def rel_error(x, y):\n",
        "  \"\"\" returns relative error \"\"\"\n",
        "  return np.max(np.abs(x - y) / (np.maximum(1e-8, np.abs(x) + np.abs(y))))"
      ],
      "execution_count": 0,
      "outputs": []
    },
    {
      "metadata": {
        "id": "yu38IHRKh2od",
        "colab_type": "code",
        "outputId": "96608a29-6262-4b69-b95f-8d91cc22162c",
        "colab": {
          "base_uri": "https://localhost:8080/",
          "height": 119
        }
      },
      "cell_type": "code",
      "source": [
        "# Load the (preprocessed) CIFAR10 data.\n",
        "\n",
        "data = get_CIFAR10_data()\n",
        "for k, v in list(data.items()):\n",
        "  print(('%s: ' % k, v.shape))"
      ],
      "execution_count": 4,
      "outputs": [
        {
          "output_type": "stream",
          "text": [
            "('X_train: ', (49000, 3, 32, 32))\n",
            "('y_train: ', (49000,))\n",
            "('X_val: ', (1000, 3, 32, 32))\n",
            "('y_val: ', (1000,))\n",
            "('X_test: ', (1000, 3, 32, 32))\n",
            "('y_test: ', (1000,))\n"
          ],
          "name": "stdout"
        }
      ]
    },
    {
      "metadata": {
        "id": "jNhos9bHh2os",
        "colab_type": "text"
      },
      "cell_type": "markdown",
      "source": [
        "# Affine layer: forward\n",
        "Open the file `cs231n/layers.py` and implement the `affine_forward` function.\n",
        "\n",
        "Once you are done you can test your implementaion by running the following:"
      ]
    },
    {
      "metadata": {
        "id": "UzCnk_timr3I",
        "colab_type": "code",
        "colab": {}
      },
      "cell_type": "code",
      "source": [
        "from builtins import range\n",
        "import numpy as np\n",
        "\n",
        "\n",
        "def affine_forward(x, w, b):\n",
        "    \"\"\"\n",
        "    Computes the forward pass for an affine (fully-connected) layer.\n",
        "\n",
        "    The input x has shape (N, d_1, ..., d_k) and contains a minibatch of N\n",
        "    examples, where each example x[i] has shape (d_1, ..., d_k). We will\n",
        "    reshape each input into a vector of dimension D = d_1 * ... * d_k, and\n",
        "    then transform it to an output vector of dimension M.\n",
        "\n",
        "    Inputs:\n",
        "    - x: A numpy array containing input data, of shape (N, d_1, ..., d_k)\n",
        "    - w: A numpy array of weights, of shape (D, M)\n",
        "    - b: A numpy array of biases, of shape (M,)\n",
        "\n",
        "    Returns a tuple of:\n",
        "    - out: output, of shape (N, M)\n",
        "    - cache: (x, w, b)\n",
        "    \"\"\"\n",
        "    out = None\n",
        "    ###########################################################################\n",
        "    # TODO: Implement the affine forward pass. Store the result in out. You   #\n",
        "    # will need to reshape the input into rows.                               #\n",
        "    ###########################################################################\n",
        "    \n",
        "    out = x.reshape(x.shape[0], -1).dot(w) + b\n",
        "    \n",
        "    ###########################################################################\n",
        "    #                             END OF YOUR CODE                            #\n",
        "    ###########################################################################\n",
        "    cache = (x, w, b)\n",
        "    return out, cache\n",
        "\n",
        "\n",
        "def affine_backward(dout, cache):\n",
        "    \"\"\"\n",
        "    Computes the backward pass for an affine layer.\n",
        "\n",
        "    Inputs:\n",
        "    - dout: Upstream derivative, of shape (N, M)\n",
        "    - cache: Tuple of:\n",
        "      - x: Input data, of shape (N, d_1, ... d_k)\n",
        "      - w: Weights, of shape (D, M)\n",
        "      - b: Biases, of shape (M,)\n",
        "\n",
        "    Returns a tuple of:\n",
        "    - dx: Gradient with respect to x, of shape (N, d1, ..., d_k)\n",
        "    - dw: Gradient with respect to w, of shape (D, M)\n",
        "    - db: Gradient with respect to b, of shape (M,)\n",
        "    \"\"\"\n",
        "    x, w, b = cache\n",
        "    dx, dw, db = None, None, None\n",
        "    ###########################################################################\n",
        "    # TODO: Implement the affine backward pass.                               #\n",
        "    ###########################################################################\n",
        "    \n",
        "    dx = dout.dot(w.T).reshape(x.shape)\n",
        "    dw = x.reshape(x.shape[0], -1).T.dot(dout)\n",
        "    db = np.sum(dout, axis=0)\n",
        "    \n",
        "    ###########################################################################\n",
        "    #                             END OF YOUR CODE                            #\n",
        "    ###########################################################################\n",
        "    return dx, dw, db\n",
        "\n",
        "\n",
        "def relu_forward(x):\n",
        "    \"\"\"\n",
        "    Computes the forward pass for a layer of rectified linear units (ReLUs).\n",
        "\n",
        "    Input:\n",
        "    - x: Inputs, of any shape\n",
        "\n",
        "    Returns a tuple of:\n",
        "    - out: Output, of the same shape as x\n",
        "    - cache: x\n",
        "    \"\"\"\n",
        "    out = None\n",
        "    ###########################################################################\n",
        "    # TODO: Implement the ReLU forward pass.                                  #\n",
        "    ###########################################################################\n",
        "    \n",
        "    out = np.maximum(0, x)\n",
        "    \n",
        "    ###########################################################################\n",
        "    #                             END OF YOUR CODE                            #\n",
        "    ###########################################################################\n",
        "    cache = x\n",
        "    return out, cache\n",
        "\n",
        "\n",
        "def relu_backward(dout, cache):\n",
        "    \"\"\"\n",
        "    Computes the backward pass for a layer of rectified linear units (ReLUs).\n",
        "\n",
        "    Input:\n",
        "    - dout: Upstream derivatives, of any shape\n",
        "    - cache: Input x, of same shape as dout\n",
        "\n",
        "    Returns:\n",
        "    - dx: Gradient with respect to x\n",
        "    \"\"\"\n",
        "    dx, x = None, cache\n",
        "    ###########################################################################\n",
        "    # TODO: Implement the ReLU backward pass.                                 #\n",
        "    ###########################################################################\n",
        "    \n",
        "    dx = dout * (x > 0)\n",
        "    \n",
        "    ###########################################################################\n",
        "    #                             END OF YOUR CODE                            #\n",
        "    ###########################################################################\n",
        "    return dx\n",
        "\n",
        "\n",
        "def svm_loss(x, y):\n",
        "    \"\"\"\n",
        "    Computes the loss and gradient using for multiclass SVM classification.\n",
        "\n",
        "    Inputs:\n",
        "    - x: Input data, of shape (N, C) where x[i, j] is the score for the jth\n",
        "      class for the ith input.\n",
        "    - y: Vector of labels, of shape (N,) where y[i] is the label for x[i] and\n",
        "      0 <= y[i] < C\n",
        "\n",
        "    Returns a tuple of:\n",
        "    - loss: Scalar giving the loss\n",
        "    - dx: Gradient of the loss with respect to x\n",
        "    \"\"\"\n",
        "    N = x.shape[0]\n",
        "    correct_class_scores = x[np.arange(N), y]\n",
        "    margins = np.maximum(0, x - correct_class_scores[:, np.newaxis] + 1.0)\n",
        "    margins[np.arange(N), y] = 0\n",
        "    loss = np.sum(margins) / N\n",
        "    num_pos = np.sum(margins > 0, axis=1)\n",
        "    dx = np.zeros_like(x)\n",
        "    dx[margins > 0] = 1\n",
        "    dx[np.arange(N), y] -= num_pos\n",
        "    dx /= N\n",
        "    return loss, dx\n",
        "\n",
        "\n",
        "def softmax_loss(x, y):\n",
        "    \"\"\"\n",
        "    Computes the loss and gradient for softmax classification.\n",
        "\n",
        "    Inputs:\n",
        "    - x: Input data, of shape (N, C) where x[i, j] is the score for the jth\n",
        "      class for the ith input.\n",
        "    - y: Vector of labels, of shape (N,) where y[i] is the label for x[i] and\n",
        "      0 <= y[i] < C\n",
        "\n",
        "    Returns a tuple of:\n",
        "    - loss: Scalar giving the loss\n",
        "    - dx: Gradient of the loss with respect to x\n",
        "    \"\"\"\n",
        "    shifted_logits = x - np.max(x, axis=1, keepdims=True)\n",
        "    Z = np.sum(np.exp(shifted_logits), axis=1, keepdims=True)\n",
        "    log_probs = shifted_logits - np.log(Z)\n",
        "    probs = np.exp(log_probs)\n",
        "    N = x.shape[0]\n",
        "    loss = -np.sum(log_probs[np.arange(N), y]) / N\n",
        "    dx = probs.copy()\n",
        "    dx[np.arange(N), y] -= 1\n",
        "    dx /= N\n",
        "    return loss, dx"
      ],
      "execution_count": 0,
      "outputs": []
    },
    {
      "metadata": {
        "id": "xFaPbnXGh2oy",
        "colab_type": "code",
        "outputId": "d7ec2ecb-ad13-4bce-82d8-809ddc642720",
        "colab": {
          "base_uri": "https://localhost:8080/",
          "height": 51
        }
      },
      "cell_type": "code",
      "source": [
        "# Test the affine_forward function\n",
        "\n",
        "num_inputs = 2\n",
        "input_shape = (4, 5, 6)\n",
        "output_dim = 3\n",
        "\n",
        "input_size = num_inputs * np.prod(input_shape)\n",
        "weight_size = output_dim * np.prod(input_shape)\n",
        "\n",
        "x = np.linspace(-0.1, 0.5, num=input_size).reshape(num_inputs, *input_shape)\n",
        "w = np.linspace(-0.2, 0.3, num=weight_size).reshape(np.prod(input_shape), output_dim)\n",
        "b = np.linspace(-0.3, 0.1, num=output_dim)\n",
        "\n",
        "out, _ = affine_forward(x, w, b)\n",
        "correct_out = np.array([[ 1.49834967,  1.70660132,  1.91485297],\n",
        "                        [ 3.25553199,  3.5141327,   3.77273342]])\n",
        "\n",
        "# Compare your output with ours. The error should be around e-9 or less.\n",
        "print('Testing affine_forward function:')\n",
        "print('difference: ', rel_error(out, correct_out))"
      ],
      "execution_count": 6,
      "outputs": [
        {
          "output_type": "stream",
          "text": [
            "Testing affine_forward function:\n",
            "difference:  9.769849468192957e-10\n"
          ],
          "name": "stdout"
        }
      ]
    },
    {
      "metadata": {
        "id": "DaAh9xhXh2o_",
        "colab_type": "text"
      },
      "cell_type": "markdown",
      "source": [
        "# Affine layer: backward\n",
        "Now implement the `affine_backward` function and test your implementation using numeric gradient checking."
      ]
    },
    {
      "metadata": {
        "id": "OSQ9oFvZh2pG",
        "colab_type": "code",
        "outputId": "315cc76f-8546-4c07-91c6-ab3ed2462d33",
        "colab": {
          "base_uri": "https://localhost:8080/",
          "height": 85
        }
      },
      "cell_type": "code",
      "source": [
        "# Test the affine_backward function\n",
        "np.random.seed(231)\n",
        "x = np.random.randn(10, 2, 3)\n",
        "w = np.random.randn(6, 5)\n",
        "b = np.random.randn(5)\n",
        "dout = np.random.randn(10, 5)\n",
        "\n",
        "dx_num = eval_numerical_gradient_array(lambda x: affine_forward(x, w, b)[0], x, dout)\n",
        "dw_num = eval_numerical_gradient_array(lambda w: affine_forward(x, w, b)[0], w, dout)\n",
        "db_num = eval_numerical_gradient_array(lambda b: affine_forward(x, w, b)[0], b, dout)\n",
        "\n",
        "_, cache = affine_forward(x, w, b)\n",
        "dx, dw, db = affine_backward(dout, cache)\n",
        "\n",
        "# The error should be around e-10 or less\n",
        "print('Testing affine_backward function:')\n",
        "print('dx error: ', rel_error(dx_num, dx))\n",
        "print('dw error: ', rel_error(dw_num, dw))\n",
        "print('db error: ', rel_error(db_num, db))"
      ],
      "execution_count": 7,
      "outputs": [
        {
          "output_type": "stream",
          "text": [
            "Testing affine_backward function:\n",
            "dx error:  5.399100368651805e-11\n",
            "dw error:  9.904211865398145e-11\n",
            "db error:  2.4122867568119087e-11\n"
          ],
          "name": "stdout"
        }
      ]
    },
    {
      "metadata": {
        "id": "Oa3IwyJ4h2pV",
        "colab_type": "text"
      },
      "cell_type": "markdown",
      "source": [
        "# ReLU activation: forward\n",
        "Implement the forward pass for the ReLU activation function in the `relu_forward` function and test your implementation using the following:"
      ]
    },
    {
      "metadata": {
        "id": "ex1Eh4xYh2pZ",
        "colab_type": "code",
        "outputId": "f2b43c26-9b60-4164-bffb-099c5a48b7ca",
        "colab": {
          "base_uri": "https://localhost:8080/",
          "height": 51
        }
      },
      "cell_type": "code",
      "source": [
        "# Test the relu_forward function\n",
        "\n",
        "x = np.linspace(-0.5, 0.5, num=12).reshape(3, 4)\n",
        "\n",
        "out, _ = relu_forward(x)\n",
        "correct_out = np.array([[ 0.,          0.,          0.,          0.,        ],\n",
        "                        [ 0.,          0.,          0.04545455,  0.13636364,],\n",
        "                        [ 0.22727273,  0.31818182,  0.40909091,  0.5,       ]])\n",
        "\n",
        "# Compare your output with ours. The error should be on the order of e-8\n",
        "print('Testing relu_forward function:')\n",
        "print('difference: ', rel_error(out, correct_out))"
      ],
      "execution_count": 8,
      "outputs": [
        {
          "output_type": "stream",
          "text": [
            "Testing relu_forward function:\n",
            "difference:  4.999999798022158e-08\n"
          ],
          "name": "stdout"
        }
      ]
    },
    {
      "metadata": {
        "id": "Q5zk3t6th2pj",
        "colab_type": "text"
      },
      "cell_type": "markdown",
      "source": [
        "# ReLU activation: backward\n",
        "Now implement the backward pass for the ReLU activation function in the `relu_backward` function and test your implementation using numeric gradient checking:"
      ]
    },
    {
      "metadata": {
        "id": "qE_WAbj-h2pm",
        "colab_type": "code",
        "outputId": "7c6a47ab-80dd-4eb4-8be8-adc07969e2b3",
        "colab": {
          "base_uri": "https://localhost:8080/",
          "height": 51
        }
      },
      "cell_type": "code",
      "source": [
        "np.random.seed(231)\n",
        "x = np.random.randn(10, 10)\n",
        "dout = np.random.randn(*x.shape)\n",
        "\n",
        "dx_num = eval_numerical_gradient_array(lambda x: relu_forward(x)[0], x, dout)\n",
        "\n",
        "_, cache = relu_forward(x)\n",
        "dx = relu_backward(dout, cache)\n",
        "\n",
        "# The error should be on the order of e-12\n",
        "print('Testing relu_backward function:')\n",
        "print('dx error: ', rel_error(dx_num, dx))"
      ],
      "execution_count": 9,
      "outputs": [
        {
          "output_type": "stream",
          "text": [
            "Testing relu_backward function:\n",
            "dx error:  3.2756349136310288e-12\n"
          ],
          "name": "stdout"
        }
      ]
    },
    {
      "metadata": {
        "id": "-MCnYKQCh2p1",
        "colab_type": "text"
      },
      "cell_type": "markdown",
      "source": [
        "## Inline Question 1: \n",
        "\n",
        "We've only asked you to implement ReLU, but there are a number of different activation functions that one could use in neural networks, each with its pros and cons. In particular, an issue commonly seen with activation functions is getting zero (or close to zero) gradient flow during backpropagation. Which of the following activation functions have this problem? If you consider these functions in the one dimensional case, what types of input would lead to this behaviour?\n",
        "1. Sigmoid\n",
        "2. ReLU\n",
        "3. Leaky ReLU"
      ]
    },
    {
      "metadata": {
        "id": "pCSZKnkIh2p_",
        "colab_type": "text"
      },
      "cell_type": "markdown",
      "source": [
        "# \"Sandwich\" layers\n",
        "There are some common patterns of layers that are frequently used in neural nets. For example, affine layers are frequently followed by a ReLU nonlinearity. To make these common patterns easy, we define several convenience layers in the file `cs231n/layer_utils.py`.\n",
        "\n",
        "For now take a look at the `affine_relu_forward` and `affine_relu_backward` functions, and run the following to numerically gradient check the backward pass:"
      ]
    },
    {
      "metadata": {
        "id": "oMMXEtJtoiJ5",
        "colab_type": "code",
        "colab": {}
      },
      "cell_type": "code",
      "source": [
        "\n",
        "# from cs231n.layers import *\n",
        "# from cs231n.fast_layers import *\n",
        "\n",
        "\n",
        "def affine_relu_forward(x, w, b):\n",
        "    \"\"\"\n",
        "    Convenience layer that perorms an affine transform followed by a ReLU\n",
        "\n",
        "    Inputs:\n",
        "    - x: Input to the affine layer\n",
        "    - w, b: Weights for the affine layer\n",
        "\n",
        "    Returns a tuple of:\n",
        "    - out: Output from the ReLU\n",
        "    - cache: Object to give to the backward pass\n",
        "    \"\"\"\n",
        "    a, fc_cache = affine_forward(x, w, b)\n",
        "    out, relu_cache = relu_forward(a)\n",
        "    cache = (fc_cache, relu_cache)\n",
        "    return out, cache\n",
        "\n",
        "\n",
        "def affine_relu_backward(dout, cache):\n",
        "    \"\"\"\n",
        "    Backward pass for the affine-relu convenience layer\n",
        "    \"\"\"\n",
        "    fc_cache, relu_cache = cache\n",
        "    da = relu_backward(dout, relu_cache)\n",
        "    dx, dw, db = affine_backward(da, fc_cache)\n",
        "    return dx, dw, db"
      ],
      "execution_count": 0,
      "outputs": []
    },
    {
      "metadata": {
        "id": "yOO0qQZkh2qD",
        "colab_type": "code",
        "outputId": "79b9372f-4bdc-4466-fe4d-c0dad4c5eae7",
        "colab": {
          "base_uri": "https://localhost:8080/",
          "height": 85
        }
      },
      "cell_type": "code",
      "source": [
        "# from cs231n.layer_utils import affine_relu_forward, affine_relu_backward\n",
        "np.random.seed(231)\n",
        "x = np.random.randn(2, 3, 4)\n",
        "w = np.random.randn(12, 10)\n",
        "b = np.random.randn(10)\n",
        "dout = np.random.randn(2, 10)\n",
        "\n",
        "out, cache = affine_relu_forward(x, w, b)\n",
        "dx, dw, db = affine_relu_backward(dout, cache)\n",
        "\n",
        "dx_num = eval_numerical_gradient_array(lambda x: affine_relu_forward(x, w, b)[0], x, dout)\n",
        "dw_num = eval_numerical_gradient_array(lambda w: affine_relu_forward(x, w, b)[0], w, dout)\n",
        "db_num = eval_numerical_gradient_array(lambda b: affine_relu_forward(x, w, b)[0], b, dout)\n",
        "\n",
        "# Relative error should be around e-10 or less\n",
        "print('Testing affine_relu_forward and affine_relu_backward:')\n",
        "print('dx error: ', rel_error(dx_num, dx))\n",
        "print('dw error: ', rel_error(dw_num, dw))\n",
        "print('db error: ', rel_error(db_num, db))"
      ],
      "execution_count": 11,
      "outputs": [
        {
          "output_type": "stream",
          "text": [
            "Testing affine_relu_forward and affine_relu_backward:\n",
            "dx error:  2.299579177309368e-11\n",
            "dw error:  8.162011105764925e-11\n",
            "db error:  7.826724021458994e-12\n"
          ],
          "name": "stdout"
        }
      ]
    },
    {
      "metadata": {
        "id": "5i5RGrlvh2qR",
        "colab_type": "text"
      },
      "cell_type": "markdown",
      "source": [
        "# Loss layers: Softmax and SVM\n",
        "You implemented these loss functions in the last assignment, so we'll give them to you for free here. You should still make sure you understand how they work by looking at the implementations in `cs231n/layers.py`.\n",
        "\n",
        "You can make sure that the implementations are correct by running the following:"
      ]
    },
    {
      "metadata": {
        "id": "hZR00acRh2qW",
        "colab_type": "code",
        "outputId": "08fb3c9c-c9b4-4b6b-a5e8-6718a4eb5dc0",
        "colab": {
          "base_uri": "https://localhost:8080/",
          "height": 136
        }
      },
      "cell_type": "code",
      "source": [
        "np.random.seed(231)\n",
        "num_classes, num_inputs = 10, 50\n",
        "x = 0.001 * np.random.randn(num_inputs, num_classes)\n",
        "y = np.random.randint(num_classes, size=num_inputs)\n",
        "\n",
        "dx_num = eval_numerical_gradient(lambda x: svm_loss(x, y)[0], x, verbose=False)\n",
        "loss, dx = svm_loss(x, y)\n",
        "\n",
        "# Test svm_loss function. Loss should be around 9 and dx error should be around the order of e-9\n",
        "print('Testing svm_loss:')\n",
        "print('loss: ', loss)\n",
        "print('dx error: ', rel_error(dx_num, dx))\n",
        "\n",
        "dx_num = eval_numerical_gradient(lambda x: softmax_loss(x, y)[0], x, verbose=False)\n",
        "loss, dx = softmax_loss(x, y)\n",
        "\n",
        "# Test softmax_loss function. Loss should be close to 2.3 and dx error should be around e-8\n",
        "print('\\nTesting softmax_loss:')\n",
        "print('loss: ', loss)\n",
        "print('dx error: ', rel_error(dx_num, dx))"
      ],
      "execution_count": 12,
      "outputs": [
        {
          "output_type": "stream",
          "text": [
            "Testing svm_loss:\n",
            "loss:  8.999602749096233\n",
            "dx error:  1.4021566006651672e-09\n",
            "\n",
            "Testing softmax_loss:\n",
            "loss:  2.302545844500738\n",
            "dx error:  9.384673161989355e-09\n"
          ],
          "name": "stdout"
        }
      ]
    },
    {
      "metadata": {
        "id": "gkxUmd-Ih2qs",
        "colab_type": "text"
      },
      "cell_type": "markdown",
      "source": [
        "# Two-layer network\n",
        "In the previous assignment you implemented a two-layer neural network in a single monolithic class. Now that you have implemented modular versions of the necessary layers, you will reimplement the two layer network using these modular implementations.\n",
        "\n",
        "Open the file `cs231n/classifiers/fc_net.py` and complete the implementation of the `TwoLayerNet` class. This class will serve as a model for the other networks you will implement in this assignment, so read through it to make sure you understand the API. You can run the cell below to test your implementation."
      ]
    },
    {
      "metadata": {
        "id": "KqUhO01YnvwO",
        "colab_type": "code",
        "colab": {}
      },
      "cell_type": "code",
      "source": [
        "from builtins import range\n",
        "from builtins import object\n",
        "import numpy as np\n",
        "\n",
        "# from cs231n.layers import *\n",
        "# from cs231n.layer_utils import *\n",
        "\n",
        "\n",
        "class TwoLayerNet(object):\n",
        "    \"\"\"\n",
        "    A two-layer fully-connected neural network with ReLU nonlinearity and\n",
        "    softmax loss that uses a modular layer design. We assume an input dimension\n",
        "    of D, a hidden dimension of H, and perform classification over C classes.\n",
        "\n",
        "    The architecure should be affine - relu - affine - softmax.\n",
        "\n",
        "    Note that this class does not implement gradient descent; instead, it\n",
        "    will interact with a separate Solver object that is responsible for running\n",
        "    optimization.\n",
        "\n",
        "    The learnable parameters of the model are stored in the dictionary\n",
        "    self.params that maps parameter names to numpy arrays.\n",
        "    \"\"\"\n",
        "\n",
        "    def __init__(self, input_dim=3*32*32, hidden_dim=100, num_classes=10,\n",
        "                 weight_scale=1e-3, reg=0.0):\n",
        "        \"\"\"\n",
        "        Initialize a new network.\n",
        "\n",
        "        Inputs:\n",
        "        - input_dim: An integer giving the size of the input\n",
        "        - hidden_dim: An integer giving the size of the hidden layer\n",
        "        - num_classes: An integer giving the number of classes to classify\n",
        "        - weight_scale: Scalar giving the standard deviation for random\n",
        "          initialization of the weights.\n",
        "        - reg: Scalar giving L2 regularization strength.\n",
        "        \"\"\"\n",
        "        self.params = {}\n",
        "        self.reg = reg\n",
        "\n",
        "        ############################################################################\n",
        "        # TODO: Initialize the weights and biases of the two-layer net. Weights    #\n",
        "        # should be initialized from a Gaussian centered at 0.0 with               #\n",
        "        # standard deviation equal to weight_scale, and biases should be           #\n",
        "        # initialized to zero. All weights and biases should be stored in the      #\n",
        "        # dictionary self.params, with first layer weights                         #\n",
        "        # and biases using the keys 'W1' and 'b1' and second layer                 #\n",
        "        # weights and biases using the keys 'W2' and 'b2'.                         #\n",
        "        ############################################################################\n",
        "        \n",
        "        self.params['W1'] = np.random.normal(0.0, weight_scale, (input_dim, hidden_dim))\n",
        "        self.params['W2'] = np.random.normal(0.0, weight_scale, (hidden_dim, num_classes))\n",
        "        self.params['b1'] = np.zeros(hidden_dim)\n",
        "        self.params['b2'] = np.zeros(num_classes)\n",
        "        \n",
        "        ############################################################################\n",
        "        #                             END OF YOUR CODE                             #\n",
        "        ############################################################################\n",
        "\n",
        "\n",
        "    def loss(self, X, y=None):\n",
        "        \"\"\"\n",
        "        Compute loss and gradient for a minibatch of data.\n",
        "\n",
        "        Inputs:\n",
        "        - X: Array of input data of shape (N, d_1, ..., d_k)\n",
        "        - y: Array of labels, of shape (N,). y[i] gives the label for X[i].\n",
        "\n",
        "        Returns:\n",
        "        If y is None, then run a test-time forward pass of the model and return:\n",
        "        - scores: Array of shape (N, C) giving classification scores, where\n",
        "          scores[i, c] is the classification score for X[i] and class c.\n",
        "\n",
        "        If y is not None, then run a training-time forward and backward pass and\n",
        "        return a tuple of:\n",
        "        - loss: Scalar value giving the loss\n",
        "        - grads: Dictionary with the same keys as self.params, mapping parameter\n",
        "          names to gradients of the loss with respect to those parameters.\n",
        "        \"\"\"\n",
        "        scores = None\n",
        "        ############################################################################\n",
        "        # TODO: Implement the forward pass for the two-layer net, computing the    #\n",
        "        # class scores for X and storing them in the scores variable.              #\n",
        "        ############################################################################\n",
        "        \n",
        "        W1, W2 = self.params['W1'], self.params['W2']\n",
        "        b1, b2 = self.params['b1'], self.params['b2']\n",
        "        h1, cache1 = affine_relu_forward(X, W1, b1)\n",
        "        scores, cache2 = affine_forward(h1, W2, b2)\n",
        "                      \n",
        "        ############################################################################\n",
        "        #                             END OF YOUR CODE                             #\n",
        "        ############################################################################\n",
        "\n",
        "        # If y is None then we are in test mode so just return scores\n",
        "        if y is None:\n",
        "            return scores\n",
        "\n",
        "        loss, grads = 0, {}\n",
        "        ############################################################################\n",
        "        # TODO: Implement the backward pass for the two-layer net. Store the loss  #\n",
        "        # in the loss variable and gradients in the grads dictionary. Compute data #\n",
        "        # loss using softmax, and make sure that grads[k] holds the gradients for  #\n",
        "        # self.params[k]. Don't forget to add L2 regularization!                   #\n",
        "        #                                                                          #\n",
        "        # NOTE: To ensure that your implementation matches ours and you pass the   #\n",
        "        # automated tests, make sure that your L2 regularization includes a factor #\n",
        "        # of 0.5 to simplify the expression for the gradient.                      #\n",
        "        ############################################################################\n",
        "        \n",
        "        loss, dl = softmax_loss(scores, y)\n",
        "        loss += 0.5 * self.reg * (np.sum(W1 ** 2) + np.sum(W2 ** 2))\n",
        "        dh1, grads['W2'], grads['b2'] = affine_backward(dl, cache2)\n",
        "        grads['W2'] += reg * W2\n",
        "        _, grads['W1'], grads['b1'] = affine_relu_backward(dh1, cache1)\n",
        "        grads['W1'] += reg * W1\n",
        "                \n",
        "        ############################################################################\n",
        "        #                             END OF YOUR CODE                             #\n",
        "        ############################################################################\n",
        "\n",
        "        return loss, grads"
      ],
      "execution_count": 0,
      "outputs": []
    },
    {
      "metadata": {
        "id": "0ANF1EsAh2qx",
        "colab_type": "code",
        "colab": {
          "base_uri": "https://localhost:8080/",
          "height": 238
        },
        "outputId": "8d1ae60f-aa4d-4625-c570-3163c0a8e690"
      },
      "cell_type": "code",
      "source": [
        "np.random.seed(231)\n",
        "N, D, H, C = 3, 5, 50, 7\n",
        "X = np.random.randn(N, D)\n",
        "y = np.random.randint(C, size=N)\n",
        "\n",
        "std = 1e-3\n",
        "model = TwoLayerNet(input_dim=D, hidden_dim=H, num_classes=C, weight_scale=std)\n",
        "\n",
        "print('Testing initialization ... ')\n",
        "W1_std = abs(model.params['W1'].std() - std)\n",
        "b1 = model.params['b1']\n",
        "W2_std = abs(model.params['W2'].std() - std)\n",
        "b2 = model.params['b2']\n",
        "assert W1_std < std / 10, 'First layer weights do not seem right'\n",
        "assert np.all(b1 == 0), 'First layer biases do not seem right'\n",
        "assert W2_std < std / 10, 'Second layer weights do not seem right'\n",
        "assert np.all(b2 == 0), 'Second layer biases do not seem right'\n",
        "\n",
        "print('Testing test-time forward pass ... ')\n",
        "model.params['W1'] = np.linspace(-0.7, 0.3, num=D*H).reshape(D, H)\n",
        "model.params['b1'] = np.linspace(-0.1, 0.9, num=H)\n",
        "model.params['W2'] = np.linspace(-0.3, 0.4, num=H*C).reshape(H, C)\n",
        "model.params['b2'] = np.linspace(-0.9, 0.1, num=C)\n",
        "X = np.linspace(-5.5, 4.5, num=N*D).reshape(D, N).T\n",
        "scores = model.loss(X)\n",
        "correct_scores = np.asarray(\n",
        "  [[11.53165108,  12.2917344,   13.05181771,  13.81190102,  14.57198434, 15.33206765,  16.09215096],\n",
        "   [12.05769098,  12.74614105,  13.43459113,  14.1230412,   14.81149128, 15.49994135,  16.18839143],\n",
        "   [12.58373087,  13.20054771,  13.81736455,  14.43418138,  15.05099822, 15.66781506,  16.2846319 ]])\n",
        "scores_diff = np.abs(scores - correct_scores).sum()\n",
        "assert scores_diff < 1e-6, 'Problem with test-time forward pass'\n",
        "\n",
        "print('Testing training loss (no regularization)')\n",
        "y = np.asarray([0, 5, 1])\n",
        "loss, grads = model.loss(X, y)\n",
        "correct_loss = 3.4702243556\n",
        "assert abs(loss - correct_loss) < 1e-10, 'Problem with training-time loss'\n",
        "\n",
        "model.reg = 1.0\n",
        "loss, grads = model.loss(X, y)\n",
        "correct_loss = 26.5948426952\n",
        "assert abs(loss - correct_loss) < 1e-10, 'Problem with regularization loss'\n",
        "\n",
        "# Errors should be around e-7 or less\n",
        "for reg in [0.0, 0.7]:\n",
        "  print('Running numeric gradient check with reg = ', reg)\n",
        "  model.reg = reg\n",
        "  loss, grads = model.loss(X, y)\n",
        "\n",
        "  for name in sorted(grads):\n",
        "    f = lambda _: model.loss(X, y)[0]\n",
        "    grad_num = eval_numerical_gradient(f, model.params[name], verbose=False)\n",
        "    print('%s relative error: %.2e' % (name, rel_error(grad_num, grads[name])))"
      ],
      "execution_count": 29,
      "outputs": [
        {
          "output_type": "stream",
          "text": [
            "Testing initialization ... \n",
            "Testing test-time forward pass ... \n",
            "Testing training loss (no regularization)\n",
            "Running numeric gradient check with reg =  0.0\n",
            "W1 relative error: 1.83e-08\n",
            "W2 relative error: 3.12e-10\n",
            "b1 relative error: 9.83e-09\n",
            "b2 relative error: 4.33e-10\n",
            "Running numeric gradient check with reg =  0.7\n",
            "W1 relative error: 2.53e-07\n",
            "W2 relative error: 2.85e-08\n",
            "b1 relative error: 1.56e-08\n",
            "b2 relative error: 7.76e-10\n"
          ],
          "name": "stdout"
        }
      ]
    },
    {
      "metadata": {
        "id": "7EnIK8kKh2q-",
        "colab_type": "text"
      },
      "cell_type": "markdown",
      "source": [
        "# Solver\n",
        "In the previous assignment, the logic for training models was coupled to the models themselves. Following a more modular design, for this assignment we have split the logic for training models into a separate class.\n",
        "\n",
        "Open the file `cs231n/solver.py` and read through it to familiarize yourself with the API. After doing so, use a `Solver` instance to train a `TwoLayerNet` that achieves at least `50%` accuracy on the validation set."
      ]
    },
    {
      "metadata": {
        "id": "ZRR4ZSouh2rC",
        "colab_type": "code",
        "colab": {
          "base_uri": "https://localhost:8080/",
          "height": 374
        },
        "outputId": "911fe11b-703d-4b03-9cfe-7375fcc68395"
      },
      "cell_type": "code",
      "source": [
        "from cs231n.solver import Solver\n",
        "model = TwoLayerNet()\n",
        "solver = None\n",
        "\n",
        "##############################################################################\n",
        "# TODO: Use a Solver instance to train a TwoLayerNet that achieves at least  #\n",
        "# 50% accuracy on the validation set.                                        #\n",
        "##############################################################################\n",
        "\n",
        "solver = Solver(model, data,\n",
        "                    update_rule='sgd',\n",
        "                    optim_config={\n",
        "                      'learning_rate': 1e-3,\n",
        "                    },\n",
        "                    lr_decay=0.95, print_every = 491)\n",
        "solver.train()\n",
        "\n",
        "##############################################################################\n",
        "#                             END OF YOUR CODE                               #\n",
        "##############################################################################"
      ],
      "execution_count": 48,
      "outputs": [
        {
          "output_type": "stream",
          "text": [
            "(Iteration 1 / 4900) loss: 2.305095\n",
            "(Epoch 0 / 10) train acc: 0.124000; val_acc: 0.113000\n",
            "(Epoch 1 / 10) train acc: 0.400000; val_acc: 0.434000\n",
            "(Iteration 492 / 4900) loss: 1.563615\n",
            "(Epoch 2 / 10) train acc: 0.486000; val_acc: 0.459000\n",
            "(Iteration 983 / 4900) loss: 1.418743\n",
            "(Epoch 3 / 10) train acc: 0.499000; val_acc: 0.469000\n",
            "(Iteration 1474 / 4900) loss: 1.484827\n",
            "(Epoch 4 / 10) train acc: 0.533000; val_acc: 0.496000\n",
            "(Iteration 1965 / 4900) loss: 1.410246\n",
            "(Epoch 5 / 10) train acc: 0.517000; val_acc: 0.497000\n",
            "(Iteration 2456 / 4900) loss: 1.287873\n",
            "(Epoch 6 / 10) train acc: 0.519000; val_acc: 0.499000\n",
            "(Iteration 2947 / 4900) loss: 1.541127\n",
            "(Epoch 7 / 10) train acc: 0.524000; val_acc: 0.507000\n",
            "(Iteration 3438 / 4900) loss: 1.197756\n",
            "(Epoch 8 / 10) train acc: 0.519000; val_acc: 0.494000\n",
            "(Iteration 3929 / 4900) loss: 1.260820\n",
            "(Epoch 9 / 10) train acc: 0.537000; val_acc: 0.497000\n",
            "(Iteration 4420 / 4900) loss: 1.220283\n",
            "(Epoch 10 / 10) train acc: 0.560000; val_acc: 0.509000\n"
          ],
          "name": "stdout"
        }
      ]
    },
    {
      "metadata": {
        "id": "VRT4YB1xh2rM",
        "colab_type": "code",
        "colab": {
          "base_uri": "https://localhost:8080/",
          "height": 729
        },
        "outputId": "d1e0a428-ea49-47d5-fdca-26a4d3e42dff"
      },
      "cell_type": "code",
      "source": [
        "# Run this cell to visualize training loss and train / val accuracy\n",
        "\n",
        "plt.subplot(2, 1, 1)\n",
        "plt.title('Training loss')\n",
        "plt.plot(solver.loss_history, 'o')\n",
        "plt.xlabel('Iteration')\n",
        "\n",
        "plt.subplot(2, 1, 2)\n",
        "plt.title('Accuracy')\n",
        "plt.plot(solver.train_acc_history, '-o', label='train')\n",
        "plt.plot(solver.val_acc_history, '-o', label='val')\n",
        "plt.plot([0.5] * len(solver.val_acc_history), 'k--')\n",
        "plt.xlabel('Epoch')\n",
        "plt.legend(loc='lower right')\n",
        "plt.gcf().set_size_inches(15, 12)\n",
        "plt.show()"
      ],
      "execution_count": 49,
      "outputs": [
        {
          "output_type": "display_data",
          "data": {
            "image/png": "[encoded data removed]",
            "text/plain": [
              "<Figure size 1080x864 with 2 Axes>"
            ]
          },
          "metadata": {
            "tags": []
          }
        }
      ]
    },
    {
      "metadata": {
        "id": "iNZYZ9uMh2rX",
        "colab_type": "text"
      },
      "cell_type": "markdown",
      "source": [
        "# Multilayer network\n",
        "Next you will implement a fully-connected network with an arbitrary number of hidden layers.\n",
        "\n",
        "Read through the `FullyConnectedNet` class in the file `cs231n/classifiers/fc_net.py`.\n",
        "\n",
        "Implement the initialization, the forward pass, and the backward pass. For the moment don't worry about implementing dropout or batch/layer normalization; we will add those features soon."
      ]
    },
    {
      "metadata": {
        "id": "GKy-ukwGp83n",
        "colab_type": "code",
        "colab": {}
      },
      "cell_type": "code",
      "source": [
        "class FullyConnectedNet(object):\n",
        "    \"\"\"\n",
        "    A fully-connected neural network with an arbitrary number of hidden layers,\n",
        "    ReLU nonlinearities, and a softmax loss function. This will also implement\n",
        "    dropout and batch/layer normalization as options. For a network with L layers,\n",
        "    the architecture will be\n",
        "\n",
        "    {affine - [batch/layer norm] - relu - [dropout]} x (L - 1) - affine - softmax\n",
        "\n",
        "    where batch/layer normalization and dropout are optional, and the {...} block is\n",
        "    repeated L - 1 times.\n",
        "\n",
        "    Similar to the TwoLayerNet above, learnable parameters are stored in the\n",
        "    self.params dictionary and will be learned using the Solver class.\n",
        "    \"\"\"\n",
        "\n",
        "    def __init__(self, hidden_dims, input_dim=3*32*32, num_classes=10,\n",
        "                 dropout=1, normalization=None, reg=0.0,\n",
        "                 weight_scale=1e-2, dtype=np.float32, seed=None):\n",
        "        \"\"\"\n",
        "        Initialize a new FullyConnectedNet.\n",
        "\n",
        "        Inputs:\n",
        "        - hidden_dims: A list of integers giving the size of each hidden layer.\n",
        "        - input_dim: An integer giving the size of the input.\n",
        "        - num_classes: An integer giving the number of classes to classify.\n",
        "        - dropout: Scalar between 0 and 1 giving dropout strength. If dropout=1 then\n",
        "          the network should not use dropout at all.\n",
        "        - normalization: What type of normalization the network should use. Valid values\n",
        "          are \"batchnorm\", \"layernorm\", or None for no normalization (the default).\n",
        "        - reg: Scalar giving L2 regularization strength.\n",
        "        - weight_scale: Scalar giving the standard deviation for random\n",
        "          initialization of the weights.\n",
        "        - dtype: A numpy datatype object; all computations will be performed using\n",
        "          this datatype. float32 is faster but less accurate, so you should use\n",
        "          float64 for numeric gradient checking.\n",
        "        - seed: If not None, then pass this random seed to the dropout layers. This\n",
        "          will make the dropout layers deteriminstic so we can gradient check the\n",
        "          model.\n",
        "        \"\"\"\n",
        "        self.normalization = normalization\n",
        "        self.use_dropout = dropout != 1\n",
        "        self.reg = reg\n",
        "        self.num_layers = 1 + len(hidden_dims)\n",
        "        self.dtype = dtype\n",
        "        self.params = {}\n",
        "\n",
        "        ############################################################################\n",
        "        # TODO: Initialize the parameters of the network, storing all values in    #\n",
        "        # the self.params dictionary. Store weights and biases for the first layer #\n",
        "        # in W1 and b1; for the second layer use W2 and b2, etc. Weights should be #\n",
        "        # initialized from a normal distribution centered at 0 with standard       #\n",
        "        # deviation equal to weight_scale. Biases should be initialized to zero.   #\n",
        "        #                                                                          #\n",
        "        # When using batch normalization, store scale and shift parameters for the #\n",
        "        # first layer in gamma1 and beta1; for the second layer use gamma2 and     #\n",
        "        # beta2, etc. Scale parameters should be initialized to ones and shift     #\n",
        "        # parameters should be initialized to zeros.                               #\n",
        "        ############################################################################\n",
        "        pass\n",
        "        ############################################################################\n",
        "        #                             END OF YOUR CODE                             #\n",
        "        ############################################################################\n",
        "\n",
        "        # When using dropout we need to pass a dropout_param dictionary to each\n",
        "        # dropout layer so that the layer knows the dropout probability and the mode\n",
        "        # (train / test). You can pass the same dropout_param to each dropout layer.\n",
        "        self.dropout_param = {}\n",
        "        if self.use_dropout:\n",
        "            self.dropout_param = {'mode': 'train', 'p': dropout}\n",
        "            if seed is not None:\n",
        "                self.dropout_param['seed'] = seed\n",
        "\n",
        "        # With batch normalization we need to keep track of running means and\n",
        "        # variances, so we need to pass a special bn_param object to each batch\n",
        "        # normalization layer. You should pass self.bn_params[0] to the forward pass\n",
        "        # of the first batch normalization layer, self.bn_params[1] to the forward\n",
        "        # pass of the second batch normalization layer, etc.\n",
        "        self.bn_params = []\n",
        "        if self.normalization=='batchnorm':\n",
        "            self.bn_params = [{'mode': 'train'} for i in range(self.num_layers - 1)]\n",
        "        if self.normalization=='layernorm':\n",
        "            self.bn_params = [{} for i in range(self.num_layers - 1)]\n",
        "\n",
        "        # Cast all parameters to the correct datatype\n",
        "        for k, v in self.params.items():\n",
        "            self.params[k] = v.astype(dtype)\n",
        "\n",
        "\n",
        "    def loss(self, X, y=None):\n",
        "        \"\"\"\n",
        "        Compute loss and gradient for the fully-connected net.\n",
        "\n",
        "        Input / output: Same as TwoLayerNet above.\n",
        "        \"\"\"\n",
        "        X = X.astype(self.dtype)\n",
        "        mode = 'test' if y is None else 'train'\n",
        "\n",
        "        # Set train/test mode for batchnorm params and dropout param since they\n",
        "        # behave differently during training and testing.\n",
        "        if self.use_dropout:\n",
        "            self.dropout_param['mode'] = mode\n",
        "        if self.normalization=='batchnorm':\n",
        "            for bn_param in self.bn_params:\n",
        "                bn_param['mode'] = mode\n",
        "        scores = None\n",
        "        ############################################################################\n",
        "        # TODO: Implement the forward pass for the fully-connected net, computing  #\n",
        "        # the class scores for X and storing them in the scores variable.          #\n",
        "        #                                                                          #\n",
        "        # When using dropout, you'll need to pass self.dropout_param to each       #\n",
        "        # dropout forward pass.                                                    #\n",
        "        #                                                                          #\n",
        "        # When using batch normalization, you'll need to pass self.bn_params[0] to #\n",
        "        # the forward pass for the first batch normalization layer, pass           #\n",
        "        # self.bn_params[1] to the forward pass for the second batch normalization #\n",
        "        # layer, etc.                                                              #\n",
        "        ############################################################################\n",
        "        pass\n",
        "        ############################################################################\n",
        "        #                             END OF YOUR CODE                             #\n",
        "        ############################################################################\n",
        "\n",
        "        # If test mode return early\n",
        "        if mode == 'test':\n",
        "            return scores\n",
        "\n",
        "        loss, grads = 0.0, {}\n",
        "        ############################################################################\n",
        "        # TODO: Implement the backward pass for the fully-connected net. Store the #\n",
        "        # loss in the loss variable and gradients in the grads dictionary. Compute #\n",
        "        # data loss using softmax, and make sure that grads[k] holds the gradients #\n",
        "        # for self.params[k]. Don't forget to add L2 regularization!               #\n",
        "        #                                                                          #\n",
        "        # When using batch/layer normalization, you don't need to regularize the scale   #\n",
        "        # and shift parameters.                                                    #\n",
        "        #                                                                          #\n",
        "        # NOTE: To ensure that your implementation matches ours and you pass the   #\n",
        "        # automated tests, make sure that your L2 regularization includes a factor #\n",
        "        # of 0.5 to simplify the expression for the gradient.                      #\n",
        "        ############################################################################\n",
        "        pass\n",
        "        ############################################################################\n",
        "        #                             END OF YOUR CODE                             #\n",
        "        ############################################################################\n",
        "\n",
        "        return loss, grads"
      ],
      "execution_count": 0,
      "outputs": []
    },
    {
      "metadata": {
        "id": "jCuSvJIYh2rb",
        "colab_type": "text"
      },
      "cell_type": "markdown",
      "source": [
        "## Initial loss and gradient check"
      ]
    },
    {
      "metadata": {
        "id": "4ulqAPVJh2rf",
        "colab_type": "text"
      },
      "cell_type": "markdown",
      "source": [
        "As a sanity check, run the following to check the initial loss and to gradient check the network both with and without regularization. Do the initial losses seem reasonable?\n",
        "\n",
        "For gradient checking, you should expect to see errors around 1e-7 or less."
      ]
    },
    {
      "metadata": {
        "id": "Tnc0-RaLh2ri",
        "colab_type": "code",
        "colab": {}
      },
      "cell_type": "code",
      "source": [
        "np.random.seed(231)\n",
        "N, D, H1, H2, C = 2, 15, 20, 30, 10\n",
        "X = np.random.randn(N, D)\n",
        "y = np.random.randint(C, size=(N,))\n",
        "\n",
        "for reg in [0, 3.14]:\n",
        "  print('Running check with reg = ', reg)\n",
        "  model = FullyConnectedNet([H1, H2], input_dim=D, num_classes=C,\n",
        "                            reg=reg, weight_scale=5e-2, dtype=np.float64)\n",
        "\n",
        "  loss, grads = model.loss(X, y)\n",
        "  print('Initial loss: ', loss)\n",
        "  \n",
        "  # Most of the errors should be on the order of e-7 or smaller.   \n",
        "  # NOTE: It is fine however to see an error for W2 on the order of e-5\n",
        "  # for the check when reg = 0.0\n",
        "  for name in sorted(grads):\n",
        "    f = lambda _: model.loss(X, y)[0]\n",
        "    grad_num = eval_numerical_gradient(f, model.params[name], verbose=False, h=1e-5)\n",
        "    print('%s relative error: %.2e' % (name, rel_error(grad_num, grads[name])))"
      ],
      "execution_count": 0,
      "outputs": []
    },
    {
      "metadata": {
        "id": "Fq38eq-5h2rs",
        "colab_type": "text"
      },
      "cell_type": "markdown",
      "source": [
        "As another sanity check, make sure you can overfit a small dataset of 50 images. First we will try a three-layer network with 100 units in each hidden layer. In the following cell, tweak the learning rate and initialization scale to overfit and achieve 100% training accuracy within 20 epochs."
      ]
    },
    {
      "metadata": {
        "scrolled": false,
        "id": "lmPGCQjuh2rw",
        "colab_type": "code",
        "colab": {}
      },
      "cell_type": "code",
      "source": [
        "# TODO: Use a three-layer Net to overfit 50 training examples by \n",
        "# tweaking just the learning rate and initialization scale.\n",
        "\n",
        "num_train = 50\n",
        "small_data = {\n",
        "  'X_train': data['X_train'][:num_train],\n",
        "  'y_train': data['y_train'][:num_train],\n",
        "  'X_val': data['X_val'],\n",
        "  'y_val': data['y_val'],\n",
        "}\n",
        "\n",
        "weight_scale = 1e-2\n",
        "learning_rate = 1e-4\n",
        "model = FullyConnectedNet([100, 100],\n",
        "              weight_scale=weight_scale, dtype=np.float64)\n",
        "solver = Solver(model, small_data,\n",
        "                print_every=10, num_epochs=20, batch_size=25,\n",
        "                update_rule='sgd',\n",
        "                optim_config={\n",
        "                  'learning_rate': learning_rate,\n",
        "                }\n",
        "         )\n",
        "solver.train()\n",
        "\n",
        "plt.plot(solver.loss_history, 'o')\n",
        "plt.title('Training loss history')\n",
        "plt.xlabel('Iteration')\n",
        "plt.ylabel('Training loss')\n",
        "plt.show()"
      ],
      "execution_count": 0,
      "outputs": []
    },
    {
      "metadata": {
        "id": "ew7Z7Aanh2sA",
        "colab_type": "text"
      },
      "cell_type": "markdown",
      "source": [
        "Now try to use a five-layer network with 100 units on each layer to overfit 50 training examples. Again you will have to adjust the learning rate and weight initialization, but you should be able to achieve 100% training accuracy within 20 epochs."
      ]
    },
    {
      "metadata": {
        "id": "i68ytc5hh2sF",
        "colab_type": "code",
        "colab": {}
      },
      "cell_type": "code",
      "source": [
        "# TODO: Use a five-layer Net to overfit 50 training examples by \n",
        "# tweaking just the learning rate and initialization scale.\n",
        "\n",
        "num_train = 50\n",
        "small_data = {\n",
        "  'X_train': data['X_train'][:num_train],\n",
        "  'y_train': data['y_train'][:num_train],\n",
        "  'X_val': data['X_val'],\n",
        "  'y_val': data['y_val'],\n",
        "}\n",
        "\n",
        "learning_rate = 2e-3\n",
        "weight_scale = 1e-5\n",
        "model = FullyConnectedNet([100, 100, 100, 100],\n",
        "                weight_scale=weight_scale, dtype=np.float64)\n",
        "solver = Solver(model, small_data,\n",
        "                print_every=10, num_epochs=20, batch_size=25,\n",
        "                update_rule='sgd',\n",
        "                optim_config={\n",
        "                  'learning_rate': learning_rate,\n",
        "                }\n",
        "         )\n",
        "solver.train()\n",
        "\n",
        "plt.plot(solver.loss_history, 'o')\n",
        "plt.title('Training loss history')\n",
        "plt.xlabel('Iteration')\n",
        "plt.ylabel('Training loss')\n",
        "plt.show()"
      ],
      "execution_count": 0,
      "outputs": []
    },
    {
      "metadata": {
        "id": "2qCANJTBh2sP",
        "colab_type": "text"
      },
      "cell_type": "markdown",
      "source": [
        "## Inline Question 2: \n",
        "Did you notice anything about the comparative difficulty of training the three-layer net vs training the five layer net? In particular, based on your experience, which network seemed more sensitive to the initialization scale? Why do you think that is the case?"
      ]
    },
    {
      "metadata": {
        "id": "REsq2GW6h2sS",
        "colab_type": "text"
      },
      "cell_type": "markdown",
      "source": [
        "## Answer:\n",
        "[FILL THIS IN]\n"
      ]
    },
    {
      "metadata": {
        "id": "eOb-jSEEh2sW",
        "colab_type": "text"
      },
      "cell_type": "markdown",
      "source": [
        "# Update rules\n",
        "So far we have used vanilla stochastic gradient descent (SGD) as our update rule. More sophisticated update rules can make it easier to train deep networks. We will implement a few of the most commonly used update rules and compare them to vanilla SGD."
      ]
    },
    {
      "metadata": {
        "id": "9RjxhPmxh2sa",
        "colab_type": "text"
      },
      "cell_type": "markdown",
      "source": [
        "# SGD+Momentum\n",
        "Stochastic gradient descent with momentum is a widely used update rule that tends to make deep networks converge faster than vanilla stochastic gradient descent. See the Momentum Update section at http://cs231n.github.io/neural-networks-3/#sgd for more information.\n",
        "\n",
        "Open the file `cs231n/optim.py` and read the documentation at the top of the file to make sure you understand the API. Implement the SGD+momentum update rule in the function `sgd_momentum` and run the following to check your implementation. You should see errors less than e-8."
      ]
    },
    {
      "metadata": {
        "id": "-KSQoqSlonDU",
        "colab_type": "code",
        "colab": {}
      },
      "cell_type": "code",
      "source": [
        "import numpy as np\n",
        "\n",
        "\"\"\"\n",
        "This file implements various first-order update rules that are commonly used\n",
        "for training neural networks. Each update rule accepts current weights and the\n",
        "gradient of the loss with respect to those weights and produces the next set of\n",
        "weights. Each update rule has the same interface:\n",
        "\n",
        "def update(w, dw, config=None):\n",
        "\n",
        "Inputs:\n",
        "  - w: A numpy array giving the current weights.\n",
        "  - dw: A numpy array of the same shape as w giving the gradient of the\n",
        "    loss with respect to w.\n",
        "  - config: A dictionary containing hyperparameter values such as learning\n",
        "    rate, momentum, etc. If the update rule requires caching values over many\n",
        "    iterations, then config will also hold these cached values.\n",
        "\n",
        "Returns:\n",
        "  - next_w: The next point after the update.\n",
        "  - config: The config dictionary to be passed to the next iteration of the\n",
        "    update rule.\n",
        "\n",
        "NOTE: For most update rules, the default learning rate will probably not\n",
        "perform well; however the default values of the other hyperparameters should\n",
        "work well for a variety of different problems.\n",
        "\n",
        "For efficiency, update rules may perform in-place updates, mutating w and\n",
        "setting next_w equal to w.\n",
        "\"\"\"\n",
        "\n",
        "\n",
        "def sgd(w, dw, config=None):\n",
        "    \"\"\"\n",
        "    Performs vanilla stochastic gradient descent.\n",
        "\n",
        "    config format:\n",
        "    - learning_rate: Scalar learning rate.\n",
        "    \"\"\"\n",
        "    if config is None: config = {}\n",
        "    config.setdefault('learning_rate', 1e-2)\n",
        "\n",
        "    w -= config['learning_rate'] * dw\n",
        "    return w, config\n",
        "\n",
        "\n",
        "def sgd_momentum(w, dw, config=None):\n",
        "    \"\"\"\n",
        "    Performs stochastic gradient descent with momentum.\n",
        "\n",
        "    config format:\n",
        "    - learning_rate: Scalar learning rate.\n",
        "    - momentum: Scalar between 0 and 1 giving the momentum value.\n",
        "      Setting momentum = 0 reduces to sgd.\n",
        "    - velocity: A numpy array of the same shape as w and dw used to store a\n",
        "      moving average of the gradients.\n",
        "    \"\"\"\n",
        "    if config is None: config = {}\n",
        "    config.setdefault('learning_rate', 1e-2)\n",
        "    config.setdefault('momentum', 0.9)\n",
        "    v = config.get('velocity', np.zeros_like(w))\n",
        "\n",
        "    next_w = None\n",
        "    ###########################################################################\n",
        "    # TODO: Implement the momentum update formula. Store the updated value in #\n",
        "    # the next_w variable. You should also use and update the velocity v.     #\n",
        "    ###########################################################################\n",
        "    pass\n",
        "    ###########################################################################\n",
        "    #                             END OF YOUR CODE                            #\n",
        "    ###########################################################################\n",
        "    config['velocity'] = v\n",
        "\n",
        "    return next_w, config\n",
        "\n",
        "\n",
        "\n",
        "def rmsprop(w, dw, config=None):\n",
        "    \"\"\"\n",
        "    Uses the RMSProp update rule, which uses a moving average of squared\n",
        "    gradient values to set adaptive per-parameter learning rates.\n",
        "\n",
        "    config format:\n",
        "    - learning_rate: Scalar learning rate.\n",
        "    - decay_rate: Scalar between 0 and 1 giving the decay rate for the squared\n",
        "      gradient cache.\n",
        "    - epsilon: Small scalar used for smoothing to avoid dividing by zero.\n",
        "    - cache: Moving average of second moments of gradients.\n",
        "    \"\"\"\n",
        "    if config is None: config = {}\n",
        "    config.setdefault('learning_rate', 1e-2)\n",
        "    config.setdefault('decay_rate', 0.99)\n",
        "    config.setdefault('epsilon', 1e-8)\n",
        "    config.setdefault('cache', np.zeros_like(w))\n",
        "\n",
        "    next_w = None\n",
        "    ###########################################################################\n",
        "    # TODO: Implement the RMSprop update formula, storing the next value of w #\n",
        "    # in the next_w variable. Don't forget to update cache value stored in    #\n",
        "    # config['cache'].                                                        #\n",
        "    ###########################################################################\n",
        "    pass\n",
        "    ###########################################################################\n",
        "    #                             END OF YOUR CODE                            #\n",
        "    ###########################################################################\n",
        "\n",
        "    return next_w, config\n",
        "\n",
        "\n",
        "def adam(w, dw, config=None):\n",
        "    \"\"\"\n",
        "    Uses the Adam update rule, which incorporates moving averages of both the\n",
        "    gradient and its square and a bias correction term.\n",
        "\n",
        "    config format:\n",
        "    - learning_rate: Scalar learning rate.\n",
        "    - beta1: Decay rate for moving average of first moment of gradient.\n",
        "    - beta2: Decay rate for moving average of second moment of gradient.\n",
        "    - epsilon: Small scalar used for smoothing to avoid dividing by zero.\n",
        "    - m: Moving average of gradient.\n",
        "    - v: Moving average of squared gradient.\n",
        "    - t: Iteration number.\n",
        "    \"\"\"\n",
        "    if config is None: config = {}\n",
        "    config.setdefault('learning_rate', 1e-3)\n",
        "    config.setdefault('beta1', 0.9)\n",
        "    config.setdefault('beta2', 0.999)\n",
        "    config.setdefault('epsilon', 1e-8)\n",
        "    config.setdefault('m', np.zeros_like(w))\n",
        "    config.setdefault('v', np.zeros_like(w))\n",
        "    config.setdefault('t', 0)\n",
        "\n",
        "    next_w = None\n",
        "    ###########################################################################\n",
        "    # TODO: Implement the Adam update formula, storing the next value of w in #\n",
        "    # the next_w variable. Don't forget to update the m, v, and t variables   #\n",
        "    # stored in config.                                                       #\n",
        "    #                                                                         #\n",
        "    # NOTE: In order to match the reference output, please modify t _before_  #\n",
        "    # using it in any calculations.                                           #\n",
        "    ###########################################################################\n",
        "    pass\n",
        "    ###########################################################################\n",
        "    #                             END OF YOUR CODE                            #\n",
        "    ###########################################################################\n",
        "\n",
        "    return next_w, config\n"
      ],
      "execution_count": 0,
      "outputs": []
    },
    {
      "metadata": {
        "id": "eFESHBFFh2sc",
        "colab_type": "code",
        "colab": {}
      },
      "cell_type": "code",
      "source": [
        "# from cs231n.optim import sgd_momentum\n",
        "\n",
        "N, D = 4, 5\n",
        "w = np.linspace(-0.4, 0.6, num=N*D).reshape(N, D)\n",
        "dw = np.linspace(-0.6, 0.4, num=N*D).reshape(N, D)\n",
        "v = np.linspace(0.6, 0.9, num=N*D).reshape(N, D)\n",
        "\n",
        "config = {'learning_rate': 1e-3, 'velocity': v}\n",
        "next_w, _ = sgd_momentum(w, dw, config=config)\n",
        "\n",
        "expected_next_w = np.asarray([\n",
        "  [ 0.1406,      0.20738947,  0.27417895,  0.34096842,  0.40775789],\n",
        "  [ 0.47454737,  0.54133684,  0.60812632,  0.67491579,  0.74170526],\n",
        "  [ 0.80849474,  0.87528421,  0.94207368,  1.00886316,  1.07565263],\n",
        "  [ 1.14244211,  1.20923158,  1.27602105,  1.34281053,  1.4096    ]])\n",
        "expected_velocity = np.asarray([\n",
        "  [ 0.5406,      0.55475789,  0.56891579, 0.58307368,  0.59723158],\n",
        "  [ 0.61138947,  0.62554737,  0.63970526,  0.65386316,  0.66802105],\n",
        "  [ 0.68217895,  0.69633684,  0.71049474,  0.72465263,  0.73881053],\n",
        "  [ 0.75296842,  0.76712632,  0.78128421,  0.79544211,  0.8096    ]])\n",
        "\n",
        "# Should see relative errors around e-8 or less\n",
        "print('next_w error: ', rel_error(next_w, expected_next_w))\n",
        "print('velocity error: ', rel_error(expected_velocity, config['velocity']))"
      ],
      "execution_count": 0,
      "outputs": []
    },
    {
      "metadata": {
        "id": "lWlyVCJyh2sn",
        "colab_type": "text"
      },
      "cell_type": "markdown",
      "source": [
        "Once you have done so, run the following to train a six-layer network with both SGD and SGD+momentum. You should see the SGD+momentum update rule converge faster."
      ]
    },
    {
      "metadata": {
        "scrolled": false,
        "id": "kMAyi7K3h2sq",
        "colab_type": "code",
        "colab": {}
      },
      "cell_type": "code",
      "source": [
        "num_train = 4000\n",
        "small_data = {\n",
        "  'X_train': data['X_train'][:num_train],\n",
        "  'y_train': data['y_train'][:num_train],\n",
        "  'X_val': data['X_val'],\n",
        "  'y_val': data['y_val'],\n",
        "}\n",
        "\n",
        "solvers = {}\n",
        "\n",
        "for update_rule in ['sgd', 'sgd_momentum']:\n",
        "  print('running with ', update_rule)\n",
        "  model = FullyConnectedNet([100, 100, 100, 100, 100], weight_scale=5e-2)\n",
        "\n",
        "  solver = Solver(model, small_data,\n",
        "                  num_epochs=5, batch_size=100,\n",
        "                  update_rule=update_rule,\n",
        "                  optim_config={\n",
        "                    'learning_rate': 1e-2,\n",
        "                  },\n",
        "                  verbose=True)\n",
        "  solvers[update_rule] = solver\n",
        "  solver.train()\n",
        "  print()\n",
        "\n",
        "plt.subplot(3, 1, 1)\n",
        "plt.title('Training loss')\n",
        "plt.xlabel('Iteration')\n",
        "\n",
        "plt.subplot(3, 1, 2)\n",
        "plt.title('Training accuracy')\n",
        "plt.xlabel('Epoch')\n",
        "\n",
        "plt.subplot(3, 1, 3)\n",
        "plt.title('Validation accuracy')\n",
        "plt.xlabel('Epoch')\n",
        "\n",
        "for update_rule, solver in list(solvers.items()):\n",
        "  plt.subplot(3, 1, 1)\n",
        "  plt.plot(solver.loss_history, 'o', label=update_rule)\n",
        "  \n",
        "  plt.subplot(3, 1, 2)\n",
        "  plt.plot(solver.train_acc_history, '-o', label=update_rule)\n",
        "\n",
        "  plt.subplot(3, 1, 3)\n",
        "  plt.plot(solver.val_acc_history, '-o', label=update_rule)\n",
        "  \n",
        "for i in [1, 2, 3]:\n",
        "  plt.subplot(3, 1, i)\n",
        "  plt.legend(loc='upper center', ncol=4)\n",
        "plt.gcf().set_size_inches(15, 15)\n",
        "plt.show()"
      ],
      "execution_count": 0,
      "outputs": []
    },
    {
      "metadata": {
        "id": "c-LnV91sh2s2",
        "colab_type": "text"
      },
      "cell_type": "markdown",
      "source": [
        "# RMSProp and Adam\n",
        "RMSProp [1] and Adam [2] are update rules that set per-parameter learning rates by using a running average of the second moments of gradients.\n",
        "\n",
        "In the file `cs231n/optim.py`, implement the RMSProp update rule in the `rmsprop` function and implement the Adam update rule in the `adam` function, and check your implementations using the tests below.\n",
        "\n",
        "**NOTE:** Please implement the _complete_ Adam update rule (with the bias correction mechanism), not the first simplified version mentioned in the course notes. \n",
        "\n",
        "[1] Tijmen Tieleman and Geoffrey Hinton. \"Lecture 6.5-rmsprop: Divide the gradient by a running average of its recent magnitude.\" COURSERA: Neural Networks for Machine Learning 4 (2012).\n",
        "\n",
        "[2] Diederik Kingma and Jimmy Ba, \"Adam: A Method for Stochastic Optimization\", ICLR 2015."
      ]
    },
    {
      "metadata": {
        "id": "4cTmR0jCh2s5",
        "colab_type": "code",
        "colab": {}
      },
      "cell_type": "code",
      "source": [
        "# Test RMSProp implementation\n",
        "# from cs231n.optim import rmsprop\n",
        "\n",
        "N, D = 4, 5\n",
        "w = np.linspace(-0.4, 0.6, num=N*D).reshape(N, D)\n",
        "dw = np.linspace(-0.6, 0.4, num=N*D).reshape(N, D)\n",
        "cache = np.linspace(0.6, 0.9, num=N*D).reshape(N, D)\n",
        "\n",
        "config = {'learning_rate': 1e-2, 'cache': cache}\n",
        "next_w, _ = rmsprop(w, dw, config=config)\n",
        "\n",
        "expected_next_w = np.asarray([\n",
        "  [-0.39223849, -0.34037513, -0.28849239, -0.23659121, -0.18467247],\n",
        "  [-0.132737,   -0.08078555, -0.02881884,  0.02316247,  0.07515774],\n",
        "  [ 0.12716641,  0.17918792,  0.23122175,  0.28326742,  0.33532447],\n",
        "  [ 0.38739248,  0.43947102,  0.49155973,  0.54365823,  0.59576619]])\n",
        "expected_cache = np.asarray([\n",
        "  [ 0.5976,      0.6126277,   0.6277108,   0.64284931,  0.65804321],\n",
        "  [ 0.67329252,  0.68859723,  0.70395734,  0.71937285,  0.73484377],\n",
        "  [ 0.75037008,  0.7659518,   0.78158892,  0.79728144,  0.81302936],\n",
        "  [ 0.82883269,  0.84469141,  0.86060554,  0.87657507,  0.8926    ]])\n",
        "\n",
        "# You should see relative errors around e-7 or less\n",
        "print('next_w error: ', rel_error(expected_next_w, next_w))\n",
        "print('cache error: ', rel_error(expected_cache, config['cache']))"
      ],
      "execution_count": 0,
      "outputs": []
    },
    {
      "metadata": {
        "id": "ID36itfgh2tD",
        "colab_type": "code",
        "colab": {}
      },
      "cell_type": "code",
      "source": [
        "# Test Adam implementation\n",
        "# from cs231n.optim import adam\n",
        "\n",
        "N, D = 4, 5\n",
        "w = np.linspace(-0.4, 0.6, num=N*D).reshape(N, D)\n",
        "dw = np.linspace(-0.6, 0.4, num=N*D).reshape(N, D)\n",
        "m = np.linspace(0.6, 0.9, num=N*D).reshape(N, D)\n",
        "v = np.linspace(0.7, 0.5, num=N*D).reshape(N, D)\n",
        "\n",
        "config = {'learning_rate': 1e-2, 'm': m, 'v': v, 't': 5}\n",
        "next_w, _ = adam(w, dw, config=config)\n",
        "\n",
        "expected_next_w = np.asarray([\n",
        "  [-0.40094747, -0.34836187, -0.29577703, -0.24319299, -0.19060977],\n",
        "  [-0.1380274,  -0.08544591, -0.03286534,  0.01971428,  0.0722929],\n",
        "  [ 0.1248705,   0.17744702,  0.23002243,  0.28259667,  0.33516969],\n",
        "  [ 0.38774145,  0.44031188,  0.49288093,  0.54544852,  0.59801459]])\n",
        "expected_v = np.asarray([\n",
        "  [ 0.69966,     0.68908382,  0.67851319,  0.66794809,  0.65738853,],\n",
        "  [ 0.64683452,  0.63628604,  0.6257431,   0.61520571,  0.60467385,],\n",
        "  [ 0.59414753,  0.58362676,  0.57311152,  0.56260183,  0.55209767,],\n",
        "  [ 0.54159906,  0.53110598,  0.52061845,  0.51013645,  0.49966,   ]])\n",
        "expected_m = np.asarray([\n",
        "  [ 0.48,        0.49947368,  0.51894737,  0.53842105,  0.55789474],\n",
        "  [ 0.57736842,  0.59684211,  0.61631579,  0.63578947,  0.65526316],\n",
        "  [ 0.67473684,  0.69421053,  0.71368421,  0.73315789,  0.75263158],\n",
        "  [ 0.77210526,  0.79157895,  0.81105263,  0.83052632,  0.85      ]])\n",
        "\n",
        "# You should see relative errors around e-7 or less\n",
        "print('next_w error: ', rel_error(expected_next_w, next_w))\n",
        "print('v error: ', rel_error(expected_v, config['v']))\n",
        "print('m error: ', rel_error(expected_m, config['m']))"
      ],
      "execution_count": 0,
      "outputs": []
    },
    {
      "metadata": {
        "id": "s3THsz_ph2tS",
        "colab_type": "text"
      },
      "cell_type": "markdown",
      "source": [
        "Once you have debugged your RMSProp and Adam implementations, run the following to train a pair of deep networks using these new update rules:"
      ]
    },
    {
      "metadata": {
        "id": "0PmXMMB9h2tW",
        "colab_type": "code",
        "colab": {}
      },
      "cell_type": "code",
      "source": [
        "learning_rates = {'rmsprop': 1e-4, 'adam': 1e-3}\n",
        "for update_rule in ['adam', 'rmsprop']:\n",
        "  print('running with ', update_rule)\n",
        "  model = FullyConnectedNet([100, 100, 100, 100, 100], weight_scale=5e-2)\n",
        "\n",
        "  solver = Solver(model, small_data,\n",
        "                  num_epochs=5, batch_size=100,\n",
        "                  update_rule=update_rule,\n",
        "                  optim_config={\n",
        "                    'learning_rate': learning_rates[update_rule]\n",
        "                  },\n",
        "                  verbose=True)\n",
        "  solvers[update_rule] = solver\n",
        "  solver.train()\n",
        "  print()\n",
        "\n",
        "plt.subplot(3, 1, 1)\n",
        "plt.title('Training loss')\n",
        "plt.xlabel('Iteration')\n",
        "\n",
        "plt.subplot(3, 1, 2)\n",
        "plt.title('Training accuracy')\n",
        "plt.xlabel('Epoch')\n",
        "\n",
        "plt.subplot(3, 1, 3)\n",
        "plt.title('Validation accuracy')\n",
        "plt.xlabel('Epoch')\n",
        "\n",
        "for update_rule, solver in list(solvers.items()):\n",
        "  plt.subplot(3, 1, 1)\n",
        "  plt.plot(solver.loss_history, 'o', label=update_rule)\n",
        "  \n",
        "  plt.subplot(3, 1, 2)\n",
        "  plt.plot(solver.train_acc_history, '-o', label=update_rule)\n",
        "\n",
        "  plt.subplot(3, 1, 3)\n",
        "  plt.plot(solver.val_acc_history, '-o', label=update_rule)\n",
        "  \n",
        "for i in [1, 2, 3]:\n",
        "  plt.subplot(3, 1, i)\n",
        "  plt.legend(loc='upper center', ncol=4)\n",
        "plt.gcf().set_size_inches(15, 15)\n",
        "plt.show()"
      ],
      "execution_count": 0,
      "outputs": []
    },
    {
      "metadata": {
        "id": "O4O5VNnvh2th",
        "colab_type": "text"
      },
      "cell_type": "markdown",
      "source": [
        "## Inline Question 3:\n",
        "\n",
        "AdaGrad, like Adam, is a per-parameter optimization method that uses the following update rule:\n",
        "\n",
        "```\n",
        "cache += dw**2\n",
        "w += - learning_rate * dw / (np.sqrt(cache) + eps)\n",
        "```\n",
        "\n",
        "John notices that when he was training a network with AdaGrad that the updates became very small, and that his network was learning slowly. Using your knowledge of the AdaGrad update rule, why do you think the updates would become very small? Would Adam have the same issue?\n"
      ]
    },
    {
      "metadata": {
        "id": "tNH91XD5h2tq",
        "colab_type": "text"
      },
      "cell_type": "markdown",
      "source": [
        "## Answer: \n"
      ]
    },
    {
      "metadata": {
        "id": "mUwx8sIVh2tt",
        "colab_type": "text"
      },
      "cell_type": "markdown",
      "source": [
        "# Train a good model!\n",
        "Train the best fully-connected model that you can on CIFAR-10, storing your best model in the `best_model` variable. We require you to get at least 50% accuracy on the validation set using a fully-connected net.\n",
        "\n",
        "If you are careful it should be possible to get accuracies above 55%, but we don't require it for this part and won't assign extra credit for doing so. Later in the assignment we will ask you to train the best convolutional network that you can on CIFAR-10, and we would prefer that you spend your effort working on convolutional nets rather than fully-connected nets.\n",
        "\n",
        "You might find it useful to complete the `BatchNormalization.ipynb` and `Dropout.ipynb` notebooks before completing this part, since those techniques can help you train powerful models."
      ]
    },
    {
      "metadata": {
        "scrolled": false,
        "id": "ySxkcysXh2t7",
        "colab_type": "code",
        "colab": {}
      },
      "cell_type": "code",
      "source": [
        "best_model = None\n",
        "################################################################################\n",
        "# TODO: Train the best FullyConnectedNet that you can on CIFAR-10. You might   #\n",
        "# find batch/layer normalization and dropout useful. Store your best model in  #\n",
        "# the best_model variable.                                                     #\n",
        "################################################################################\n",
        "pass\n",
        "################################################################################\n",
        "#                              END OF YOUR CODE                                #\n",
        "################################################################################"
      ],
      "execution_count": 0,
      "outputs": []
    },
    {
      "metadata": {
        "id": "xbvtImi9h2uH",
        "colab_type": "text"
      },
      "cell_type": "markdown",
      "source": [
        "# Test your model!\n",
        "Run your best model on the validation and test sets. You should achieve above 50% accuracy on the validation set."
      ]
    },
    {
      "metadata": {
        "id": "w5aXtuheh2uM",
        "colab_type": "code",
        "colab": {}
      },
      "cell_type": "code",
      "source": [
        "y_test_pred = np.argmax(best_model.loss(data['X_test']), axis=1)\n",
        "y_val_pred = np.argmax(best_model.loss(data['X_val']), axis=1)\n",
        "print('Validation set accuracy: ', (y_val_pred == data['y_val']).mean())\n",
        "print('Test set accuracy: ', (y_test_pred == data['y_test']).mean())"
      ],
      "execution_count": 0,
      "outputs": []
    }
  ]
}